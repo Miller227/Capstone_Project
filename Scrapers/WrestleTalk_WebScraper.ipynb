{
 "cells": [
  {
   "cell_type": "code",
   "execution_count": 1,
   "metadata": {},
   "outputs": [],
   "source": [
    "# import statements needed for the rest of the script\n",
    "from selenium import webdriver\n",
    "import requests\n",
    "import time\n",
    "import csv"
   ]
  },
  {
   "cell_type": "code",
   "execution_count": null,
   "metadata": {},
   "outputs": [],
   "source": [
    "driver = webdriver.Firefox(executable_path = '..\\geckodriver\\geckodriver.exe')"
   ]
  },
  {
   "cell_type": "code",
   "execution_count": 2,
   "metadata": {},
   "outputs": [
    {
     "name": "stdout",
     "output_type": "stream",
     "text": [
      "Url page: https://wrestletalk.com/news/page/1/\n"
     ]
    },
    {
     "ename": "NameError",
     "evalue": "name 'driver' is not defined",
     "output_type": "error",
     "traceback": [
      "\u001b[1;31m---------------------------------------------------------------------------\u001b[0m",
      "\u001b[1;31mNameError\u001b[0m                                 Traceback (most recent call last)",
      "\u001b[1;32m<ipython-input-2-6e9ea81d7bb7>\u001b[0m in \u001b[0;36m<module>\u001b[1;34m\u001b[0m\n\u001b[0;32m     13\u001b[0m     \u001b[0murl\u001b[0m \u001b[1;33m=\u001b[0m \u001b[1;34m'https://wrestletalk.com/news/page/'\u001b[0m \u001b[1;33m+\u001b[0m \u001b[0mstr\u001b[0m\u001b[1;33m(\u001b[0m\u001b[0mi\u001b[0m \u001b[1;33m+\u001b[0m \u001b[1;36m1\u001b[0m\u001b[1;33m)\u001b[0m \u001b[1;33m+\u001b[0m \u001b[1;34m'/'\u001b[0m\u001b[1;33m\u001b[0m\u001b[1;33m\u001b[0m\u001b[0m\n\u001b[0;32m     14\u001b[0m     \u001b[0mprint\u001b[0m\u001b[1;33m(\u001b[0m\u001b[1;34m\"Url page: \"\u001b[0m \u001b[1;33m+\u001b[0m \u001b[0mstr\u001b[0m\u001b[1;33m(\u001b[0m\u001b[0murl\u001b[0m\u001b[1;33m)\u001b[0m\u001b[1;33m)\u001b[0m\u001b[1;33m\u001b[0m\u001b[1;33m\u001b[0m\u001b[0m\n\u001b[1;32m---> 15\u001b[1;33m     \u001b[0mdriver\u001b[0m\u001b[1;33m.\u001b[0m\u001b[0mget\u001b[0m\u001b[1;33m(\u001b[0m\u001b[0murl\u001b[0m\u001b[1;33m)\u001b[0m\u001b[1;33m\u001b[0m\u001b[1;33m\u001b[0m\u001b[0m\n\u001b[0m\u001b[0;32m     16\u001b[0m \u001b[1;33m\u001b[0m\u001b[0m\n\u001b[0;32m     17\u001b[0m     \u001b[0mtime\u001b[0m\u001b[1;33m.\u001b[0m\u001b[0msleep\u001b[0m\u001b[1;33m(\u001b[0m\u001b[1;36m10\u001b[0m\u001b[1;33m)\u001b[0m\u001b[1;33m\u001b[0m\u001b[1;33m\u001b[0m\u001b[0m\n",
      "\u001b[1;31mNameError\u001b[0m: name 'driver' is not defined"
     ]
    }
   ],
   "source": [
    "# lists for the combined article/image/url, and lists for each of those categories\n",
    "items = []\n",
    "x = []\n",
    "y = []\n",
    "z = []\n",
    "\n",
    "# variable for article id\n",
    "article_id = 0\n",
    "\n",
    "for i in range(2):\n",
    "    \n",
    "    # set url link every iteration to get articles\n",
    "    url = 'https://wrestletalk.com/news/page/' + str(i + 1) + '/'\n",
    "    print(\"Url page: \" + str(url))\n",
    "    driver.get(url)\n",
    "    \n",
    "    time.sleep(10)\n",
    "    \n",
    "    # get tags of articles and images\n",
    "    atags = driver.find_elements_by_class_name('post-preview__title  ')\n",
    "    imgs = driver.find_elements_by_class_name('lazyautosizes lazyloaded')\n",
    "    \n",
    "    for atag in atags:\n",
    "        \n",
    "        href = atag.get_attribute('href')\n",
    "        article = atag.text\n",
    "        \n",
    "        print(href)\n",
    "        print(article)\n",
    "        \n",
    "        x.append(href)\n",
    "        y.append(article)\n",
    "        \n",
    "    # loop through all the <img> tags\n",
    "    for img in imgs:\n",
    "        \n",
    "        # get images of articles\n",
    "        src = img.get_attribute('srcset')[0]\n",
    "        print(src)\n",
    "        z.append(src)\n",
    "        \n",
    "    # modify the image url if needed, get rid of all commas inside the article title, and then append the entire item\n",
    "    for a in range(len(z)):\n",
    "        if ('https://' not in z[a]):\n",
    "            z[a] = z[a].split(\" \")[0]\n",
    "        y[a] = y[a].replace(\",\", \" \") \n",
    "        items.append([article_id, x[a], y[a], z[a]])\n",
    "        article_id += 1 \n",
    "        "
   ]
  },
  {
   "cell_type": "code",
   "execution_count": null,
   "metadata": {},
   "outputs": [],
   "source": []
  }
 ],
 "metadata": {
  "kernelspec": {
   "display_name": "Python 3",
   "language": "python",
   "name": "python3"
  },
  "language_info": {
   "codemirror_mode": {
    "name": "ipython",
    "version": 3
   },
   "file_extension": ".py",
   "mimetype": "text/x-python",
   "name": "python",
   "nbconvert_exporter": "python",
   "pygments_lexer": "ipython3",
   "version": "3.7.3"
  }
 },
 "nbformat": 4,
 "nbformat_minor": 2
}
