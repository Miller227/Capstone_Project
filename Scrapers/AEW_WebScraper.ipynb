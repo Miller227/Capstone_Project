{
 "cells": [
  {
   "cell_type": "code",
   "execution_count": 1,
   "metadata": {},
   "outputs": [],
   "source": [
    "# import statements needed for the rest of the script\n",
    "import pymysql\n",
    "from selenium import webdriver\n",
    "import requests\n",
    "import time\n",
    "import numpy\n",
    "import csv"
   ]
  },
  {
   "cell_type": "code",
   "execution_count": 3,
   "metadata": {},
   "outputs": [],
   "source": [
    "driver = webdriver.Firefox(executable_path = '..\\geckodriver\\geckodriver.exe')"
   ]
  },
  {
   "cell_type": "code",
   "execution_count": 5,
   "metadata": {},
   "outputs": [
    {
     "name": "stdout",
     "output_type": "stream",
     "text": [
      "Url page: https://www.wrestlinginc.com/news/aew-news/\n"
     ]
    },
    {
     "ename": "AttributeError",
     "evalue": "'list' object has no attribute 'find_elements_by_tag_name'",
     "output_type": "error",
     "traceback": [
      "\u001b[1;31m---------------------------------------------------------------------------\u001b[0m",
      "\u001b[1;31mAttributeError\u001b[0m                            Traceback (most recent call last)",
      "\u001b[1;32m<ipython-input-5-22d6eaaa3bef>\u001b[0m in \u001b[0;36m<module>\u001b[1;34m\u001b[0m\n\u001b[0;32m     11\u001b[0m     \u001b[1;31m# iterate through each item and get what you want from it\u001b[0m\u001b[1;33m\u001b[0m\u001b[1;33m\u001b[0m\u001b[1;33m\u001b[0m\u001b[0m\n\u001b[0;32m     12\u001b[0m     \u001b[0mli\u001b[0m \u001b[1;33m=\u001b[0m \u001b[0mdriver\u001b[0m\u001b[1;33m.\u001b[0m\u001b[0mfind_elements_by_tag_name\u001b[0m\u001b[1;33m(\u001b[0m\u001b[1;34m'li'\u001b[0m\u001b[1;33m)\u001b[0m\u001b[1;33m\u001b[0m\u001b[1;33m\u001b[0m\u001b[0m\n\u001b[1;32m---> 13\u001b[1;33m     \u001b[0mdivs\u001b[0m \u001b[1;33m=\u001b[0m \u001b[0mli\u001b[0m\u001b[1;33m.\u001b[0m\u001b[0mfind_elements_by_tag_name\u001b[0m\u001b[1;33m(\u001b[0m\u001b[1;34m'div'\u001b[0m\u001b[1;33m)\u001b[0m\u001b[1;33m\u001b[0m\u001b[1;33m\u001b[0m\u001b[0m\n\u001b[0m\u001b[0;32m     14\u001b[0m     \u001b[0matags\u001b[0m \u001b[1;33m=\u001b[0m \u001b[0mdivs\u001b[0m\u001b[1;33m.\u001b[0m\u001b[0mfind_elements_by_tag_name\u001b[0m\u001b[1;33m(\u001b[0m\u001b[1;34m'a'\u001b[0m\u001b[1;33m)\u001b[0m\u001b[1;33m\u001b[0m\u001b[1;33m\u001b[0m\u001b[0m\n\u001b[0;32m     15\u001b[0m     \u001b[0mimgs\u001b[0m \u001b[1;33m=\u001b[0m \u001b[0mdivs\u001b[0m\u001b[1;33m.\u001b[0m\u001b[0mfind_elements_by_tag_name\u001b[0m\u001b[1;33m(\u001b[0m\u001b[1;34m'img'\u001b[0m\u001b[1;33m)\u001b[0m\u001b[1;33m\u001b[0m\u001b[1;33m\u001b[0m\u001b[0m\n",
      "\u001b[1;31mAttributeError\u001b[0m: 'list' object has no attribute 'find_elements_by_tag_name'"
     ]
    }
   ],
   "source": [
    "for i in range(1):\n",
    "    \n",
    "    # set url link every iteration to get articles\n",
    "    url = 'https://www.wrestlinginc.com/news/aew-news/' \n",
    "    print(\"Url page: \" + str(url))\n",
    "    driver.get(url)\n",
    "\n",
    "    # give webdriver time to load page\n",
    "    time.sleep(10)\n",
    "\n",
    "    # iterate through each item and get what you want from it\n",
    "    li = driver.find_elements_by_tag_name('li')\n",
    "    divs = li.find_elements_by_tag_name('div')\n",
    "    atags = divs.find_elements_by_tag_name('a')\n",
    "    imgs = divs.find_elements_by_tag_name('img')\n",
    "\n",
    "    items = []\n",
    "    x = []\n",
    "    y = []\n",
    "    z = []\n",
    "\n",
    "    article_id = 0\n",
    "\n",
    "    for atag in atags:\n",
    "\n",
    "        # url for article\n",
    "        href = atag.get_attribute('href')\n",
    "\n",
    "        if (('article' in str(href)) and (href not in x) and ('#disqus_thread' not in str(href))):\n",
    "            print(href)\n",
    "            x.append(href)\n",
    "            y.append(atag.get_attribute('title'))\n",
    "        else:\n",
    "            print(\"Href does not exist.\")\n",
    "            \n",
    "    for img in imgs:\n",
    "        \n",
    "        # image for article\n",
    "        src = img.get_attribute('src')\n",
    "        if ((src not in z) and (not(src == 'null') or not(src == ''))):\n",
    "            print(\"Has image.\")\n",
    "            z.append(src)\n",
    "\n",
    "    for i in range(len(z)):\n",
    "        if not(z[i] == 'Null'):\n",
    "            z[i] = 'https://www.wwe.com' + z[i].split(\" \")[0]\n",
    "            y[i] = y[i].replace(\",\", \" \") \n",
    "        items.append([article_id, x[i], y[i], z[i]])\n",
    "        article_id += 1\n",
    "\n",
    "    print(\"Length of href: \" + str(len(x)) + \" Length of articles: \" + str(len(y)) + \" Length of src: \" + str(len(z)))\n",
    "    print(\"\")"
   ]
  },
  {
   "cell_type": "code",
   "execution_count": null,
   "metadata": {},
   "outputs": [],
   "source": []
  }
 ],
 "metadata": {
  "kernelspec": {
   "display_name": "Python 3",
   "language": "python",
   "name": "python3"
  },
  "language_info": {
   "codemirror_mode": {
    "name": "ipython",
    "version": 3
   },
   "file_extension": ".py",
   "mimetype": "text/x-python",
   "name": "python",
   "nbconvert_exporter": "python",
   "pygments_lexer": "ipython3",
   "version": "3.7.3"
  }
 },
 "nbformat": 4,
 "nbformat_minor": 2
}
